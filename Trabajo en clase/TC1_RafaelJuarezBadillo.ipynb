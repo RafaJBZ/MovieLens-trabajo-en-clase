{
 "cells": [
  {
   "cell_type": "code",
   "execution_count": 33,
   "id": "initial_id",
   "metadata": {
    "collapsed": true,
    "ExecuteTime": {
     "end_time": "2024-01-30T03:12:15.121188Z",
     "start_time": "2024-01-30T03:12:15.105689800Z"
    }
   },
   "outputs": [],
   "source": [
    "import pandas as pd"
   ]
  },
  {
   "cell_type": "code",
   "execution_count": 34,
   "outputs": [],
   "source": [
    "movies = pd.read_csv('../data/movies.csv')\n",
    "ratings = pd.read_csv('../data/ratings.csv')"
   ],
   "metadata": {
    "collapsed": false,
    "ExecuteTime": {
     "end_time": "2024-01-30T03:12:16.492045200Z",
     "start_time": "2024-01-30T03:12:16.397489200Z"
    }
   },
   "id": "1cea408e629b78d4"
  },
  {
   "cell_type": "code",
   "execution_count": 35,
   "outputs": [
    {
     "data": {
      "text/plain": "genres\nAnimation|Children|Comedy|Fantasy                  5.000\nComedy|War                                         5.000\nComedy|Drama|Musical                               4.750\nAnimation|Children|Comedy|Romance                  4.500\nComedy|Documentary|Romance                         4.500\n                                                   ...  \nAdventure|Comedy                                   1.875\nAdventure|Animation|Children|Comedy|Fantasy|War    1.500\nAdventure|Children|Comedy|Fantasy                  1.000\nAction|Horror|Sci-Fi|Thriller                      0.500\nAction|Adventure|Fantasy|Thriller                  0.500\nName: rating, Length: 117, dtype: float64"
     },
     "execution_count": 35,
     "metadata": {},
     "output_type": "execute_result"
    }
   ],
   "source": [
    "# Cuáles fueron los géneros mejor rankeados en promedio en el año 2005?\n",
    "movies_2005 = movies[movies.title.str.contains('2005', case=False)]\n",
    "ratings_2005 = ratings[ratings.movieId.isin(movies_2005.movieId)]\n",
    "ratings_2005 = ratings_2005.merge(movies, on='movieId').drop(columns=['movieId', 'userId', 'timestamp', 'title']).set_index('genres').stack().reset_index()\n",
    "ratings_2005.columns = ['genres', 'type', 'rating']\n",
    "ratings_2005 = ratings_2005.groupby('genres').rating.mean().sort_values(ascending=False)\n",
    "ratings_2005"
   ],
   "metadata": {
    "collapsed": false,
    "ExecuteTime": {
     "end_time": "2024-01-30T03:12:17.731791500Z",
     "start_time": "2024-01-30T03:12:17.632707400Z"
    }
   },
   "id": "70a32078e6813167"
  },
  {
   "cell_type": "code",
   "execution_count": 36,
   "outputs": [
    {
     "data": {
      "text/plain": "title\nMatch Factory Girl, The (Tulitikkutehtaan tyttö) (1990)    5.0\nMeantime (1984)                                            5.0\nDecalogue, The (Dekalog) (1989)                            5.0\nStand, The (1994)                                          5.0\nBig Top Scooby-Doo! (2012)                                 5.0\nName: rating, dtype: float64"
     },
     "execution_count": 36,
     "metadata": {},
     "output_type": "execute_result"
    }
   ],
   "source": [
    "# Cuál es el top 5 de películas mejor rankeadas en promedio?\n",
    "top5_ranking = ratings.merge(movies, on='movieId').drop(columns=['movieId', 'userId', 'timestamp', 'genres'])\n",
    "top5_ranking = top5_ranking.groupby('title').rating.mean().sort_values(ascending=False)\n",
    "top5_ranking.head(5)\n"
   ],
   "metadata": {
    "collapsed": false,
    "ExecuteTime": {
     "end_time": "2024-01-30T03:12:20.704165200Z",
     "start_time": "2024-01-30T03:12:20.594591600Z"
    }
   },
   "id": "a4b3503c1be29c83"
  },
  {
   "cell_type": "code",
   "execution_count": 43,
   "outputs": [
    {
     "data": {
      "text/plain": "genres\nComedy    7196\nName: rating, dtype: int64"
     },
     "execution_count": 43,
     "metadata": {},
     "output_type": "execute_result"
    }
   ],
   "source": [
    "# Cuál es el género con más reviews?\n",
    "top1_genre = ratings.merge(movies, on='movieId').drop(columns=['movieId', 'userId', 'timestamp', 'rating'])\n",
    "top1_genre = top1_genre.set_index('genres').stack().reset_index()\n",
    "top1_genre.columns = ['genres', 'type', 'rating']\n",
    "top1_genre = top1_genre.groupby('genres').rating.count().sort_values(ascending=False)\n",
    "top1_genre.head(1)"
   ],
   "metadata": {
    "collapsed": false,
    "ExecuteTime": {
     "end_time": "2024-01-30T03:13:28.935037700Z",
     "start_time": "2024-01-30T03:13:28.747555100Z"
    }
   },
   "id": "57e5332b8fea6e08"
  },
  {
   "cell_type": "code",
   "execution_count": 93,
   "outputs": [],
   "source": [
    "movies['year'] = movies['title'].str.extract(r'\\((\\d{4})\\)')"
   ],
   "metadata": {
    "collapsed": false,
    "ExecuteTime": {
     "end_time": "2024-01-30T03:39:23.674407200Z",
     "start_time": "2024-01-30T03:39:23.614288300Z"
    }
   },
   "id": "8928817fb14c3825"
  },
  {
   "cell_type": "code",
   "execution_count": 92,
   "outputs": [
    {
     "data": {
      "text/plain": "genres                              type  \nComedy|War                          rating    5.000000\nAction|Comedy|Drama|Romance         rating    5.000000\nComedy|Crime|Drama|Horror           rating    5.000000\nAnimation|Drama|Fantasy|Mystery     rating    5.000000\nAction|Adventure|Animation|Fantasy  rating    5.000000\n                                                ...   \nAction|Comedy|Crime|Western         rating    1.000000\nComedy|Horror|Sci-Fi|Thriller       rating    1.000000\nMusical|Romance                     rating    0.833333\nDrama|Fantasy|Sci-Fi|Thriller       rating    0.500000\nAction|Comedy|Horror|Musical        rating    0.500000\nName: rating, Length: 531, dtype: float64"
     },
     "execution_count": 92,
     "metadata": {},
     "output_type": "execute_result"
    }
   ],
   "source": [
    "# Cuáles es el género por año con mejor rating entre el año 2000 y 2010?\n",
    "movies_2000_2010 = movies[(movies['year'] >= '2000') & (movies['year'] <= '2010')]\n",
    "ratings_2000_2010 = ratings[ratings.movieId.isin(movies_2000_2010.movieId)]\n",
    "ratings_2000_2010 = ratings_2000_2010.merge(movies, on='movieId').drop(columns=['movieId', 'userId', 'timestamp', 'title','year']).set_index('genres').stack().reset_index()\n",
    "ratings_2000_2010.columns = ['genres', 'type', 'rating']\n",
    "ratings_2000_2010 = ratings_2000_2010.groupby(['genres', 'type']).rating.mean().sort_values(ascending=False)\n",
    "ratings_2000_2010"
   ],
   "metadata": {
    "collapsed": false,
    "ExecuteTime": {
     "end_time": "2024-01-30T03:39:09.198436400Z",
     "start_time": "2024-01-30T03:39:09.134446900Z"
    }
   },
   "id": "80bae75b597759e4"
  },
  {
   "cell_type": "code",
   "execution_count": 63,
   "outputs": [
    {
     "data": {
      "text/plain": "userId\n414    5396\nName: genres, dtype: int64"
     },
     "execution_count": 63,
     "metadata": {},
     "output_type": "execute_result"
    }
   ],
   "source": [
    "# Cuál es el usuario con más críticas y cuál es su género favorito?\n",
    "top1_user = ratings.merge(movies, on='movieId').drop(columns=['movieId', 'timestamp', 'rating'])\n",
    "top1_user = top1_user.set_index('userId').stack().reset_index()\n",
    "top1_user.columns = ['userId', 'type', 'genres']\n",
    "top1_user = top1_user.groupby('userId').genres.count().sort_values(ascending=False)\n",
    "top1_user = top1_user.head(1)\n",
    "top1_user\n"
   ],
   "metadata": {
    "collapsed": false,
    "ExecuteTime": {
     "end_time": "2024-01-30T03:22:13.696739600Z",
     "start_time": "2024-01-30T03:22:13.607393500Z"
    }
   },
   "id": "e01fcce36abffa13"
  },
  {
   "cell_type": "code",
   "execution_count": null,
   "outputs": [],
   "source": [],
   "metadata": {
    "collapsed": false
   },
   "id": "8b6a02d06fc94a95"
  }
 ],
 "metadata": {
  "kernelspec": {
   "display_name": "Python 3",
   "language": "python",
   "name": "python3"
  },
  "language_info": {
   "codemirror_mode": {
    "name": "ipython",
    "version": 2
   },
   "file_extension": ".py",
   "mimetype": "text/x-python",
   "name": "python",
   "nbconvert_exporter": "python",
   "pygments_lexer": "ipython2",
   "version": "2.7.6"
  }
 },
 "nbformat": 4,
 "nbformat_minor": 5
}
