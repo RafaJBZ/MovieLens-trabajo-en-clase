{
 "cells": [
  {
   "cell_type": "code",
   "execution_count": 1,
   "id": "initial_id",
   "metadata": {
    "collapsed": true,
    "ExecuteTime": {
     "end_time": "2024-02-02T22:21:04.658854500Z",
     "start_time": "2024-02-02T22:21:03.097278200Z"
    }
   },
   "outputs": [],
   "source": [
    "import pandas as pd"
   ]
  },
  {
   "cell_type": "code",
   "execution_count": 2,
   "outputs": [],
   "source": [
    "movies = pd.read_csv('../data/movies.csv')\n",
    "ratings = pd.read_csv('../data/ratings.csv')"
   ],
   "metadata": {
    "collapsed": false,
    "ExecuteTime": {
     "end_time": "2024-02-02T22:21:04.843348500Z",
     "start_time": "2024-02-02T22:21:04.643072700Z"
    }
   },
   "id": "1cea408e629b78d4"
  },
  {
   "cell_type": "code",
   "execution_count": 3,
   "outputs": [
    {
     "data": {
      "text/plain": "genres\nAnimation|Children|Comedy|Fantasy                  5.000\nComedy|War                                         5.000\nComedy|Drama|Musical                               4.750\nAnimation|Children|Comedy|Romance                  4.500\nComedy|Documentary|Romance                         4.500\n                                                   ...  \nAdventure|Comedy                                   1.875\nAdventure|Animation|Children|Comedy|Fantasy|War    1.500\nAdventure|Children|Comedy|Fantasy                  1.000\nAction|Horror|Sci-Fi|Thriller                      0.500\nAction|Adventure|Fantasy|Thriller                  0.500\nName: rating, Length: 117, dtype: float64"
     },
     "execution_count": 3,
     "metadata": {},
     "output_type": "execute_result"
    }
   ],
   "source": [
    "# Cuáles fueron los géneros mejor rankeados en promedio en el año 2005?\n",
    "movies_2005 = movies[movies.title.str.contains('2005', case=False)]\n",
    "ratings_2005 = ratings[ratings.movieId.isin(movies_2005.movieId)]\n",
    "ratings_2005 = ratings_2005.merge(movies, on='movieId').drop(columns=['movieId', 'userId', 'timestamp', 'title']).set_index('genres').stack().reset_index()\n",
    "ratings_2005.columns = ['genres', 'type', 'rating']\n",
    "ratings_2005 = ratings_2005.groupby('genres').rating.mean().sort_values(ascending=False)\n",
    "ratings_2005"
   ],
   "metadata": {
    "collapsed": false,
    "ExecuteTime": {
     "end_time": "2024-02-02T22:21:04.929483900Z",
     "start_time": "2024-02-02T22:21:04.832016500Z"
    }
   },
   "id": "70a32078e6813167"
  },
  {
   "cell_type": "code",
   "execution_count": 4,
   "outputs": [
    {
     "data": {
      "text/plain": "title\nMatch Factory Girl, The (Tulitikkutehtaan tyttö) (1990)    5.0\nMeantime (1984)                                            5.0\nDecalogue, The (Dekalog) (1989)                            5.0\nStand, The (1994)                                          5.0\nBig Top Scooby-Doo! (2012)                                 5.0\nName: rating, dtype: float64"
     },
     "execution_count": 4,
     "metadata": {},
     "output_type": "execute_result"
    }
   ],
   "source": [
    "# Cuál es el top 5 de películas mejor rankeadas en promedio?\n",
    "top5_ranking = ratings.merge(movies, on='movieId').drop(columns=['movieId', 'userId', 'timestamp', 'genres'])\n",
    "top5_ranking = top5_ranking.groupby('title').rating.mean().sort_values(ascending=False)\n",
    "top5_ranking.head(5)\n"
   ],
   "metadata": {
    "collapsed": false,
    "ExecuteTime": {
     "end_time": "2024-02-02T22:21:05.067159900Z",
     "start_time": "2024-02-02T22:21:04.896724500Z"
    }
   },
   "id": "a4b3503c1be29c83"
  },
  {
   "cell_type": "code",
   "execution_count": 5,
   "outputs": [
    {
     "data": {
      "text/plain": "genres\nComedy    7196\nName: rating, dtype: int64"
     },
     "execution_count": 5,
     "metadata": {},
     "output_type": "execute_result"
    }
   ],
   "source": [
    "# Cuál es el género con más reviews?\n",
    "top1_genre = ratings.merge(movies, on='movieId').drop(columns=['movieId', 'userId', 'timestamp', 'rating'])\n",
    "top1_genre = top1_genre.set_index('genres').stack().reset_index()\n",
    "top1_genre.columns = ['genres', 'type', 'rating']\n",
    "top1_genre = top1_genre.groupby('genres').rating.count().sort_values(ascending=False)\n",
    "top1_genre.head(1)"
   ],
   "metadata": {
    "collapsed": false,
    "ExecuteTime": {
     "end_time": "2024-02-02T22:21:07.168869100Z",
     "start_time": "2024-02-02T22:21:06.976060300Z"
    }
   },
   "id": "57e5332b8fea6e08"
  },
  {
   "cell_type": "code",
   "execution_count": 6,
   "outputs": [],
   "source": [
    "movies['year'] = movies['title'].str.extract(r'\\((\\d{4})\\)')"
   ],
   "metadata": {
    "collapsed": false,
    "ExecuteTime": {
     "end_time": "2024-02-02T22:21:09.627251400Z",
     "start_time": "2024-02-02T22:21:09.500281900Z"
    }
   },
   "id": "8928817fb14c3825"
  },
  {
   "cell_type": "code",
   "execution_count": 7,
   "outputs": [
    {
     "data": {
      "text/plain": "genres                              type  \nComedy|War                          rating    5.000000\nAction|Comedy|Drama|Romance         rating    5.000000\nComedy|Crime|Drama|Horror           rating    5.000000\nAnimation|Drama|Fantasy|Mystery     rating    5.000000\nAction|Adventure|Animation|Fantasy  rating    5.000000\n                                                ...   \nAction|Comedy|Crime|Western         rating    1.000000\nComedy|Horror|Sci-Fi|Thriller       rating    1.000000\nMusical|Romance                     rating    0.833333\nDrama|Fantasy|Sci-Fi|Thriller       rating    0.500000\nAction|Comedy|Horror|Musical        rating    0.500000\nName: rating, Length: 531, dtype: float64"
     },
     "execution_count": 7,
     "metadata": {},
     "output_type": "execute_result"
    }
   ],
   "source": [
    "# Cuáles es el género por año con mejor rating entre el año 2000 y 2010?\n",
    "movies_2000_2010 = movies[(movies['year'] >= '2000') & (movies['year'] <= '2010')]\n",
    "ratings_2000_2010 = ratings[ratings.movieId.isin(movies_2000_2010.movieId)]\n",
    "ratings_2000_2010 = ratings_2000_2010.merge(movies, on='movieId').drop(columns=['movieId', 'userId', 'timestamp', 'title','year']).set_index('genres').stack().reset_index()\n",
    "ratings_2000_2010.columns = ['genres', 'type', 'rating']\n",
    "ratings_2000_2010 = ratings_2000_2010.groupby(['genres', 'type']).rating.mean().sort_values(ascending=False)\n",
    "ratings_2000_2010"
   ],
   "metadata": {
    "collapsed": false,
    "ExecuteTime": {
     "end_time": "2024-02-02T22:21:11.260916300Z",
     "start_time": "2024-02-02T22:21:11.157750700Z"
    }
   },
   "id": "80bae75b597759e4"
  },
  {
   "cell_type": "code",
   "execution_count": 8,
   "outputs": [
    {
     "data": {
      "text/plain": "userId\n414    8093\nName: genres, dtype: int64"
     },
     "execution_count": 8,
     "metadata": {},
     "output_type": "execute_result"
    }
   ],
   "source": [
    "# Cuál es el usuario con más críticas y cuál es su género favorito?\n",
    "top1_user = ratings.merge(movies, on='movieId').drop(columns=['movieId', 'timestamp', 'rating'])\n",
    "top1_user = top1_user.set_index('userId').stack().reset_index()\n",
    "top1_user.columns = ['userId', 'type', 'genres']\n",
    "top1_user = top1_user.groupby('userId').genres.count().sort_values(ascending=False)\n",
    "top1_user = top1_user.head(1)\n",
    "top1_user\n"
   ],
   "metadata": {
    "collapsed": false,
    "ExecuteTime": {
     "end_time": "2024-02-02T22:21:13.920683900Z",
     "start_time": "2024-02-02T22:21:13.717248700Z"
    }
   },
   "id": "e01fcce36abffa13"
  },
  {
   "cell_type": "code",
   "execution_count": 20,
   "outputs": [
    {
     "data": {
      "text/plain": "genres\n1995    77\nName: type, dtype: int64"
     },
     "execution_count": 20,
     "metadata": {},
     "output_type": "execute_result"
    }
   ],
   "source": [
    "# Cuál es el género con más críticas por usuario?\n",
    "top1_genre_user = ratings.merge(movies, on='movieId').drop(columns=['movieId', 'timestamp', 'rating'])\n",
    "top1_genre_user = top1_genre_user.set_index('userId').stack().reset_index()\n",
    "top1_genre_user.columns = ['userId', 'type', 'genres']\n",
    "top1_genre_user = top1_genre_user.groupby(['userId', 'genres']).type.count().sort_values(ascending=False)\n",
    "top1_genre_user = top1_genre_user.groupby('userId').head(1)\n",
    "top1_genre_user = top1_genre_user.groupby('genres').count().sort_values(ascending=False)\n",
    "top1_genre_user.head(1)"
   ],
   "metadata": {
    "collapsed": false,
    "ExecuteTime": {
     "end_time": "2024-02-02T22:23:51.232477500Z",
     "start_time": "2024-02-02T22:23:50.966364500Z"
    }
   },
   "id": "8f7c413df5aef8f1"
  }
 ],
 "metadata": {
  "kernelspec": {
   "display_name": "Python 3",
   "language": "python",
   "name": "python3"
  },
  "language_info": {
   "codemirror_mode": {
    "name": "ipython",
    "version": 2
   },
   "file_extension": ".py",
   "mimetype": "text/x-python",
   "name": "python",
   "nbconvert_exporter": "python",
   "pygments_lexer": "ipython2",
   "version": "2.7.6"
  }
 },
 "nbformat": 4,
 "nbformat_minor": 5
}
